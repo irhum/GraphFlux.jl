{
  "nbformat": 4,
  "nbformat_minor": 0,
  "metadata": {
    "colab": {
      "name": "ogbghiv.ipynb",
      "provenance": [],
      "collapsed_sections": []
    },
    "kernelspec": {
      "name": "python3",
      "display_name": "Python 3"
    },
    "language_info": {
      "name": "python"
    }
  },
  "cells": [
    {
      "cell_type": "code",
      "metadata": {
        "colab": {
          "base_uri": "https://localhost:8080/"
        },
        "id": "kWYJQMrdxVYK",
        "outputId": "ff9c3367-795a-421a-dbff-1516195d7cd3"
      },
      "source": [
        "!pip install ogb"
      ],
      "execution_count": 1,
      "outputs": [
        {
          "output_type": "stream",
          "text": [
            "Collecting ogb\n",
            "\u001b[?25l  Downloading https://files.pythonhosted.org/packages/d2/c5/20b1e4a5ff90ead06139ce1c2362474b97bb3a73ee0166eb37f2d3eb0dba/ogb-1.3.1-py3-none-any.whl (67kB)\n",
            "\r\u001b[K     |████▉                           | 10kB 11.5MB/s eta 0:00:01\r\u001b[K     |█████████▊                      | 20kB 15.4MB/s eta 0:00:01\r\u001b[K     |██████████████▌                 | 30kB 17.9MB/s eta 0:00:01\r\u001b[K     |███████████████████▍            | 40kB 20.3MB/s eta 0:00:01\r\u001b[K     |████████████████████████▎       | 51kB 17.5MB/s eta 0:00:01\r\u001b[K     |█████████████████████████████   | 61kB 12.3MB/s eta 0:00:01\r\u001b[K     |████████████████████████████████| 71kB 5.2MB/s \n",
            "\u001b[?25hRequirement already satisfied: scikit-learn>=0.20.0 in /usr/local/lib/python3.7/dist-packages (from ogb) (0.22.2.post1)\n",
            "Requirement already satisfied: torch>=1.6.0 in /usr/local/lib/python3.7/dist-packages (from ogb) (1.9.0+cu102)\n",
            "Requirement already satisfied: numpy>=1.16.0 in /usr/local/lib/python3.7/dist-packages (from ogb) (1.19.5)\n",
            "Requirement already satisfied: urllib3>=1.24.0 in /usr/local/lib/python3.7/dist-packages (from ogb) (1.24.3)\n",
            "Requirement already satisfied: tqdm>=4.29.0 in /usr/local/lib/python3.7/dist-packages (from ogb) (4.41.1)\n",
            "Collecting outdated>=0.2.0\n",
            "  Downloading https://files.pythonhosted.org/packages/fd/f6/95588d496e518355c33b389222c99069b1c6f2c046be64f400072fdc7cda/outdated-0.2.1-py3-none-any.whl\n",
            "Requirement already satisfied: pandas>=0.24.0 in /usr/local/lib/python3.7/dist-packages (from ogb) (1.1.5)\n",
            "Requirement already satisfied: six>=1.12.0 in /usr/local/lib/python3.7/dist-packages (from ogb) (1.15.0)\n",
            "Requirement already satisfied: joblib>=0.11 in /usr/local/lib/python3.7/dist-packages (from scikit-learn>=0.20.0->ogb) (1.0.1)\n",
            "Requirement already satisfied: scipy>=0.17.0 in /usr/local/lib/python3.7/dist-packages (from scikit-learn>=0.20.0->ogb) (1.4.1)\n",
            "Requirement already satisfied: typing-extensions in /usr/local/lib/python3.7/dist-packages (from torch>=1.6.0->ogb) (3.7.4.3)\n",
            "Requirement already satisfied: requests in /usr/local/lib/python3.7/dist-packages (from outdated>=0.2.0->ogb) (2.23.0)\n",
            "Collecting littleutils\n",
            "  Downloading https://files.pythonhosted.org/packages/4e/b1/bb4e06f010947d67349f863b6a2ad71577f85590180a935f60543f622652/littleutils-0.2.2.tar.gz\n",
            "Requirement already satisfied: pytz>=2017.2 in /usr/local/lib/python3.7/dist-packages (from pandas>=0.24.0->ogb) (2018.9)\n",
            "Requirement already satisfied: python-dateutil>=2.7.3 in /usr/local/lib/python3.7/dist-packages (from pandas>=0.24.0->ogb) (2.8.1)\n",
            "Requirement already satisfied: idna<3,>=2.5 in /usr/local/lib/python3.7/dist-packages (from requests->outdated>=0.2.0->ogb) (2.10)\n",
            "Requirement already satisfied: certifi>=2017.4.17 in /usr/local/lib/python3.7/dist-packages (from requests->outdated>=0.2.0->ogb) (2021.5.30)\n",
            "Requirement already satisfied: chardet<4,>=3.0.2 in /usr/local/lib/python3.7/dist-packages (from requests->outdated>=0.2.0->ogb) (3.0.4)\n",
            "Building wheels for collected packages: littleutils\n",
            "  Building wheel for littleutils (setup.py) ... \u001b[?25l\u001b[?25hdone\n",
            "  Created wheel for littleutils: filename=littleutils-0.2.2-cp37-none-any.whl size=7050 sha256=6f6bd97892957afca270e53eb70f6ab341e9cdde18d254a2eac12e49fb56f7bf\n",
            "  Stored in directory: /root/.cache/pip/wheels/53/16/9f/ac67d15c40243754fd73f620e1b9b6dedc20492ecc19a2bae1\n",
            "Successfully built littleutils\n",
            "Installing collected packages: littleutils, outdated, ogb\n",
            "Successfully installed littleutils-0.2.2 ogb-1.3.1 outdated-0.2.1\n"
          ],
          "name": "stdout"
        }
      ]
    },
    {
      "cell_type": "code",
      "metadata": {
        "id": "hDppx72-xfif"
      },
      "source": [
        "from ogb.graphproppred import Evaluator\n",
        "import numpy as np"
      ],
      "execution_count": 2,
      "outputs": []
    },
    {
      "cell_type": "code",
      "metadata": {
        "colab": {
          "base_uri": "https://localhost:8080/"
        },
        "id": "YQznn0iorSfh",
        "outputId": "823ef19c-1c7a-4511-dba9-941c5613f039"
      },
      "source": [
        "# test set\n",
        "preds_and_targs = np.load(\"../download/hivpreds.npz\")\n",
        "preds = preds_and_targs[\"testpreds\"]\n",
        "targets = preds_and_targs[\"testtargets\"]\n",
        "\n",
        "evaluator = Evaluator(name='ogbg-molhiv')\n",
        "results = []\n",
        "for i in range(5):\n",
        "  input_dict = {'y_pred': preds[:, i].reshape(-1, 1), 'y_true': targets.reshape(-1, 1)}\n",
        "  result = evaluator.eval(input_dict)[\"rocauc\"]\n",
        "  results.append(result)\n",
        "\n",
        "print(results)\n",
        "print(np.round(np.mean(results), 4), np.round(np.std(results, ddof=1), 4))\n",
        "# print(np.round(np.max(results), 4), np.round(np.min(results), 4))"
      ],
      "execution_count": 32,
      "outputs": [
        {
          "output_type": "stream",
          "text": [
            "[0.7502713455261785, 0.7815485042198574, 0.7497537611773113, 0.7553583499101952, 0.7375422468568339]\n",
            "0.7549 0.0163\n"
          ],
          "name": "stdout"
        }
      ]
    },
    {
      "cell_type": "code",
      "metadata": {
        "id": "Y_dP4UjvxdoF",
        "colab": {
          "base_uri": "https://localhost:8080/"
        },
        "outputId": "cab4ff27-85e3-4044-a00c-e92cf329f9d0"
      },
      "source": [
        "# validation set\n",
        "preds_and_targs = np.load(\"../download/hivpreds.npz\")\n",
        "preds = preds_and_targs[\"valpreds\"]\n",
        "targets = preds_and_targs[\"valtargets\"]\n",
        "\n",
        "evaluator = Evaluator(name='ogbg-molhiv')\n",
        "results = []\n",
        "for i in range(5):\n",
        "  input_dict = {'y_pred': preds[:, i].reshape(-1, 1), 'y_true': targets.reshape(-1, 1)}\n",
        "  result = evaluator.eval(input_dict)[\"rocauc\"]\n",
        "  results.append(result)\n",
        "\n",
        "print(results)\n",
        "print(np.round(np.mean(results), 4), np.round(np.std(results, ddof=1), 4))"
      ],
      "execution_count": 31,
      "outputs": [
        {
          "output_type": "stream",
          "text": [
            "[0.7882112850284148, 0.8017526455026455, 0.8048972418185381, 0.8090308397021361, 0.8171755584950029]\n",
            "0.8042 0.0107\n"
          ],
          "name": "stdout"
        }
      ]
    }
  ]
}